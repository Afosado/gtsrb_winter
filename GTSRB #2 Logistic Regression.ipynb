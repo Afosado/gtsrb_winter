{
 "cells": [
  {
   "cell_type": "code",
   "execution_count": 2,
   "metadata": {},
   "outputs": [],
   "source": [
    "import cv2\n",
    "import os\n",
    "from PIL import Image\n",
    "import pandas as pd\n",
    "import numpy as np\n",
    "import matplotlib.pyplot as plt\n",
    "import torch\n",
    "from sklearn.linear_model import LogisticRegression\n",
    "from sklearn.svm import SVC\n",
    "from sklearn.model_selection import train_test_split\n",
    "from sklearn.ensemble import RandomForestClassifier\n",
    "from sklearn.metrics import accuracy_score"
   ]
  },
  {
   "cell_type": "code",
   "execution_count": 3,
   "metadata": {},
   "outputs": [],
   "source": [
    "def image_arrs(paths, im_arr):\n",
    "    for path in paths:\n",
    "        #read images, may need to change filepath\n",
    "        fp = os.path.join('GTSRB Data', 'train.csv')\n",
    "        image = cv2.imread('GTSRB Data/'+path)\n",
    "        image_from_array = Image.fromarray(image, 'RGB')\n",
    "        #resize all images to 30x30\n",
    "        size_image = image_from_array.resize((30, 30))\n",
    "        #convert images to array\n",
    "        image_arr = np.array(size_image.getdata(),\n",
    "                        np.uint8).reshape(size_image.size[1], size_image.size[0], 3)\n",
    "        im_arr.append(image_arr.flatten())\n",
    "    return im_arr"
   ]
  },
  {
   "cell_type": "code",
   "execution_count": 4,
   "metadata": {},
   "outputs": [],
   "source": [
    "#this may take a minute\n",
    "fp = os.path.join('GTSRB Data', 'train.csv')\n",
    "df = pd.read_csv(fp)\n",
    "#all filepaths for class 1 and 2\n",
    "paths1 = df[(df['ClassId']==1)]['Path'].values\n",
    "paths2 = df[(df['ClassId']==2)]['Path'].values\n",
    "\n",
    "class1_arrs = []\n",
    "class1_arrs = image_arrs(paths1, class1_arrs)\n",
    "\n",
    "class2_arrs = []\n",
    "class2_arrs = image_arrs(paths2, class2_arrs)"
   ]
  },
  {
   "cell_type": "code",
   "execution_count": 5,
   "metadata": {},
   "outputs": [
    {
     "data": {
      "text/plain": [
       "True"
      ]
     },
     "execution_count": 5,
     "metadata": {},
     "output_type": "execute_result"
    },
    {
     "data": {
      "image/png": "[encoded data removed]",
      "text/plain": [
       "<matplotlib.figure.Figure at 0x1a36c1bda0>"
      ]
     },
     "metadata": {
      "needs_background": "light"
     },
     "output_type": "display_data"
    }
   ],
   "source": [
    "#class 1 images\n",
    "plt.imshow(class1_arrs[0].reshape(30, 30, 3))\n",
    "\n",
    "#class 2 images\n",
    "plt.imshow(class2_arrs[50].reshape(30, 30, 3))\n",
    "\n",
    "\n",
    "#concat data and labels \n",
    "X = class1_arrs + class2_arrs\n",
    "y = len(class1_arrs)*[0] + len(class2_arrs)*[1]\n",
    "\n",
    "#check data is the same length as labels\n",
    "len(X)==len(y)\n"
   ]
  },
  {
   "cell_type": "code",
   "execution_count": 6,
   "metadata": {},
   "outputs": [],
   "source": [
    "mean = np.mean(X)\n",
    "std = np.std(X)\n",
    "standardized_X = (X - mean) / std\n",
    "\n",
    "mean = np.mean(y)\n",
    "std = np.std(y)\n",
    "standardized_y = (y - mean) / std"
   ]
  },
  {
   "cell_type": "code",
   "execution_count": 7,
   "metadata": {},
   "outputs": [],
   "source": [
    "test_X = torch.from_numpy(np.array(X)).float()\n",
    "test_y = torch.from_numpy(np.array(y)).float()"
   ]
  },
  {
   "cell_type": "code",
   "execution_count": 8,
   "metadata": {},
   "outputs": [],
   "source": [
    "class LogisticModel(torch.nn.Module):\n",
    "    def __init__(self):\n",
    "        super(LogisticModel, self).__init__()\n",
    "        self.linear = torch.nn.Linear(2700, 1)\n",
    "        \n",
    "    def forward(self, x_val):\n",
    "        y_pred = torch.sigmoid(self.linear(x_val))\n",
    "        return y_pred"
   ]
  },
  {
   "cell_type": "code",
   "execution_count": 9,
   "metadata": {},
   "outputs": [],
   "source": [
    "model = LogisticModel()\n",
    "\n",
    "def train_model(model, inp, outp):\n",
    "    \n",
    "    losses = []\n",
    "    \n",
    "    criterion = torch.nn.BCELoss(reduction='mean')\n",
    "    #first param take param of model (x_data) learning rate is 0.0001\n",
    "    optimizer = torch.optim.Adam(model.parameters(), lr=0.0001)\n",
    "    \n",
    "    for instance in range(2000):\n",
    "        y_pred = model(inp)\n",
    "\n",
    "        loss = criterion(y_pred, outp)\n",
    "        losses.append(loss.data)\n",
    "        \n",
    "        optimizer.zero_grad()\n",
    "        loss.backward()\n",
    "        optimizer.step()\n",
    "        \n",
    "    return losses"
   ]
  },
  {
   "cell_type": "code",
   "execution_count": 11,
   "metadata": {},
   "outputs": [
    {
     "name": "stderr",
     "output_type": "stream",
     "text": [
      "/Users/jasrajjohl/anaconda3/lib/python3.6/site-packages/torch/nn/modules/loss.py:498: UserWarning: Using a target size (torch.Size([4470])) that is different to the input size (torch.Size([4470, 1])) is deprecated. Please ensure they have the same size.\n",
      "  return F.binary_cross_entropy(input, target, weight=self.weight, reduction=self.reduction)\n"
     ]
    }
   ],
   "source": [
    "model(test_X)\n",
    "\n",
    "test_losses = train_model(model, test_X, test_y)"
   ]
  },
  {
   "cell_type": "code",
   "execution_count": 124,
   "metadata": {},
   "outputs": [
    {
     "data": {
      "text/plain": [
       "<matplotlib.axes._subplots.AxesSubplot at 0x1a457c19b0>"
      ]
     },
     "execution_count": 124,
     "metadata": {},
     "output_type": "execute_result"
    },
    {
     "data": {
      "image/png": "[encoded data removed]",
      "text/plain": [
       "<matplotlib.figure.Figure at 0x1a4588a710>"
      ]
     },
     "metadata": {
      "needs_background": "light"
     },
     "output_type": "display_data"
    }
   ],
   "source": [
    "pd.DataFrame(test_losses).plot(kind='line')"
   ]
  },
  {
   "cell_type": "code",
   "execution_count": 125,
   "metadata": {},
   "outputs": [],
   "source": [
    "#split data\n",
    "X_train, X_test, y_train, y_test = train_test_split(X, y, test_size=0.2, random_state=0)\n",
    "\n",
    "X_train = torch.from_numpy(np.array(X_train)).float()\n",
    "y_train = torch.from_numpy(np.array(y_train)).float()\n",
    "X_test = torch.from_numpy(np.array(X_test)).float()\n",
    "y_test = torch.from_numpy(np.array(y_test)).float()\n",
    "\n",
    "start_model = LogisticModel()"
   ]
  },
  {
   "cell_type": "code",
   "execution_count": 126,
   "metadata": {},
   "outputs": [],
   "source": [
    "real_losses = train_model(start_model, X_train, y_train)"
   ]
  },
  {
   "cell_type": "code",
   "execution_count": 127,
   "metadata": {},
   "outputs": [
    {
     "data": {
      "text/plain": [
       "<matplotlib.axes._subplots.AxesSubplot at 0x1a45880278>"
      ]
     },
     "execution_count": 127,
     "metadata": {},
     "output_type": "execute_result"
    },
    {
     "data": {
      "image/png": "[encoded data removed]",
      "text/plain": [
       "<matplotlib.figure.Figure at 0x1a44b6b320>"
      ]
     },
     "metadata": {
      "needs_background": "light"
     },
     "output_type": "display_data"
    }
   ],
   "source": [
    "pd.DataFrame(real_losses).plot(kind='line')"
   ]
  },
  {
   "cell_type": "code",
   "execution_count": 128,
   "metadata": {},
   "outputs": [],
   "source": [
    "def get_preds(model, x_val):\n",
    "    check_x = []\n",
    "    predictions = start_model(x_val)\n",
    "    \n",
    "    for i in predictions:\n",
    "        check_x.append(int(i))\n",
    "        \n",
    "    return check_x\n",
    "\n",
    "x_preds = get_preds(train_model, X_train)\n",
    "x_real = get_preds(train_model, X_test)"
   ]
  },
  {
   "cell_type": "code",
   "execution_count": 129,
   "metadata": {},
   "outputs": [
    {
     "data": {
      "text/plain": [
       "0.7273489932885906"
      ]
     },
     "execution_count": 129,
     "metadata": {},
     "output_type": "execute_result"
    }
   ],
   "source": [
    "accuracy_score(x_preds, y_train)"
   ]
  },
  {
   "cell_type": "code",
   "execution_count": 130,
   "metadata": {},
   "outputs": [
    {
     "data": {
      "text/plain": [
       "0.7114093959731543"
      ]
     },
     "execution_count": 130,
     "metadata": {},
     "output_type": "execute_result"
    }
   ],
   "source": [
    "accuracy_score(x_real, y_test)"
   ]
  },
  {
   "cell_type": "code",
   "execution_count": 144,
   "metadata": {},
   "outputs": [
    {
     "name": "stderr",
     "output_type": "stream",
     "text": [
      "/Users/jasrajjohl/anaconda3/lib/python3.6/site-packages/sklearn/svm/base.py:193: FutureWarning: The default value of gamma will change from 'auto' to 'scale' in version 0.22 to account better for unscaled features. Set gamma explicitly to 'auto' or 'scale' to avoid this warning.\n",
      "  \"avoid this warning.\", FutureWarning)\n"
     ]
    },
    {
     "data": {
      "text/plain": [
       "1.0"
      ]
     },
     "execution_count": 144,
     "metadata": {},
     "output_type": "execute_result"
    }
   ],
   "source": [
    "#train SVM mode\n",
    "i_model = SVC()\n",
    "i_model.fit(X_train, y_train)\n",
    "\n",
    "#accuracy on train\n",
    "i_model.score(X_train, y_train)\n",
    "\n"
   ]
  },
  {
   "cell_type": "code",
   "execution_count": null,
   "metadata": {},
   "outputs": [],
   "source": []
  }
 ],
 "metadata": {
  "kernelspec": {
   "display_name": "Python 3",
   "language": "python",
   "name": "python3"
  },
  "language_info": {
   "codemirror_mode": {
    "name": "ipython",
    "version": 3
   },
   "file_extension": ".py",
   "mimetype": "text/x-python",
   "name": "python",
   "nbconvert_exporter": "python",
   "pygments_lexer": "ipython3",
   "version": "3.6.9"
  }
 },
 "nbformat": 4,
 "nbformat_minor": 2
}
