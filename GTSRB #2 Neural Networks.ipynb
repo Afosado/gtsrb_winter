{
 "cells": [
  {
   "cell_type": "code",
   "execution_count": 96,
   "metadata": {},
   "outputs": [],
   "source": [
    "import cv2\n",
    "import os\n",
    "from PIL import Image\n",
    "import pandas as pd\n",
    "import numpy as np\n",
    "import matplotlib.pyplot as plt\n",
    "import torch\n",
    "from sklearn.linear_model import LogisticRegression\n",
    "from sklearn.svm import SVC\n",
    "from sklearn.model_selection import train_test_split\n",
    "from sklearn.ensemble import RandomForestClassifier\n",
    "from sklearn.metrics import accuracy_score\n",
    "from torchvision.models import resnet18, resnet50"
   ]
  },
  {
   "cell_type": "code",
   "execution_count": 97,
   "metadata": {},
   "outputs": [],
   "source": [
    "def image_arrs(paths, im_arr):\n",
    "    for path in paths:\n",
    "        #read images, may need to change filepath\n",
    "        fp = os.path.join('GTSRB Data', 'train.csv')\n",
    "        image = cv2.imread('GTSRB Data/'+path)\n",
    "        image_from_array = Image.fromarray(image, 'RGB')\n",
    "        #resize all images to 30x30\n",
    "        size_image = image_from_array.resize((30, 30))\n",
    "        #convert images to array\n",
    "        image_arr = np.array(size_image.getdata(),\n",
    "                        np.uint8).reshape(size_image.size[1], size_image.size[0], 3)\n",
    "        im_arr.append(image_arr.flatten())\n",
    "    return im_arr"
   ]
  },
  {
   "cell_type": "code",
   "execution_count": 98,
   "metadata": {},
   "outputs": [],
   "source": [
    "#this may take a minute\n",
    "fp = os.path.join('GTSRB Data', 'train.csv')\n",
    "df = pd.read_csv(fp)\n",
    "#all filepaths for class 1 and 2\n",
    "paths1 = df[(df['ClassId']==1)]['Path'].values\n",
    "paths2 = df[(df['ClassId']==2)]['Path'].values\n",
    "paths3 = df[(df['ClassId']==3)]['Path'].values\n",
    "\n",
    "class1_arrs = []\n",
    "class1_arrs = image_arrs(paths1, class1_arrs)\n",
    "\n",
    "class2_arrs = []\n",
    "class2_arrs = image_arrs(paths2, class2_arrs)\n",
    "\n",
    "class3_arrs = []\n",
    "class3_arrs = image_arrs(paths3, class3_arrs)"
   ]
  },
  {
   "cell_type": "code",
   "execution_count": 99,
   "metadata": {},
   "outputs": [
    {
     "data": {
      "text/plain": [
       "True"
      ]
     },
     "execution_count": 99,
     "metadata": {},
     "output_type": "execute_result"
    },
    {
     "data": {
      "image/png": "[encoded data removed]",
      "text/plain": [
       "<matplotlib.figure.Figure at 0x1a37627278>"
      ]
     },
     "metadata": {
      "needs_background": "light"
     },
     "output_type": "display_data"
    }
   ],
   "source": [
    "#class 1 images\n",
    "plt.imshow(class1_arrs[0].reshape(30, 30, 3))\n",
    "\n",
    "#class 2 images\n",
    "plt.imshow(class2_arrs[50].reshape(30, 30, 3))\n",
    "\n",
    "\n",
    "#concat data and labels \n",
    "X = class1_arrs + class2_arrs + class3_arrs\n",
    "y = len(class1_arrs)*[0] + len(class2_arrs)*[1] + len(class3_arrs)*[2]\n",
    "\n",
    "#check data is the same length as labels\n",
    "len(X)==len(y)"
   ]
  },
  {
   "cell_type": "code",
   "execution_count": 100,
   "metadata": {},
   "outputs": [],
   "source": [
    "torched_X = torch.from_numpy(np.array(X)).float()\n",
    "torched_y = torch.from_numpy(np.array(y)).long()"
   ]
  },
  {
   "cell_type": "code",
   "execution_count": 101,
   "metadata": {},
   "outputs": [],
   "source": [
    "#split data\n",
    "X_train, X_test, y_train, y_test = train_test_split(X, y, test_size=0.2, random_state=0)\n",
    "\n",
    "X_train = torch.from_numpy(np.array(X_train)).float()\n",
    "y_train = torch.from_numpy(np.array(y_train)).long()\n",
    "X_test = torch.from_numpy(np.array(X_test)).float()\n",
    "y_test = torch.from_numpy(np.array(y_test)).long()\n",
    "\n",
    "start_model = LogisticModel()"
   ]
  },
  {
   "cell_type": "code",
   "execution_count": 102,
   "metadata": {},
   "outputs": [],
   "source": [
    "class LogisticModel(torch.nn.Module):\n",
    "    def __init__(self):\n",
    "        super(LogisticModel, self).__init__()\n",
    "        self.linear = torch.nn.Linear(2700, 1)\n",
    "        \n",
    "    def forward(self, x_val):\n",
    "        y_pred = torch.sigmoid(self.linear(x_val))\n",
    "        return y_pred"
   ]
  },
  {
   "cell_type": "code",
   "execution_count": 103,
   "metadata": {},
   "outputs": [],
   "source": [
    "model = LogisticModel()"
   ]
  },
  {
   "cell_type": "code",
   "execution_count": 119,
   "metadata": {},
   "outputs": [],
   "source": [
    "class newNeural(torch.nn.Module):\n",
    "    \n",
    "    def __init__(self, input_size, hidden1_size, hidden2_size, hidden3_size, hidden4_size, num_classes):\n",
    "        \n",
    "        super(newNeural, self).__init__()\n",
    "        self.fc1 = torch.nn.Linear(input_size, hidden1_size)\n",
    "        self.relu1 = torch.nn.ReLU()\n",
    "        self.fc2 = torch.nn.Linear(hidden1_size, hidden2_size)\n",
    "        self.relu2 = torch.nn.ReLU()\n",
    "        self.fc3 = torch.nn.Linear(hidden2_size, hidden3_size)\n",
    "        self.relu3 = torch.nn.ReLU()\n",
    "        self.fc4 = torch.nn.Linear(hidden3_size, hidden4_size)\n",
    "        self.relu4 = torch.nn.ReLU()\n",
    "        self.fc5 = torch.nn.Linear(hidden4_size, num_classes)\n",
    "        \n",
    "    def forward(self, x):\n",
    "        out = self.fc1(x)\n",
    "        out = self.relu1(out)\n",
    "        out = self.fc2(out)\n",
    "        out = self.relu2(out)\n",
    "        out = self.fc3(out)\n",
    "        out = self.relu3(out)\n",
    "        out = self.fc4(out)\n",
    "        out = self.relu4(out)\n",
    "        out = self.fc5(out)\n",
    "        return out\n",
    "        "
   ]
  },
  {
   "cell_type": "code",
   "execution_count": 116,
   "metadata": {},
   "outputs": [],
   "source": [
    "def train_model(model, inp, outp):\n",
    "    \n",
    "    losses = []\n",
    "    \n",
    "    criterion = torch.nn.CrossEntropyLoss()\n",
    "    #first param take param of model (x_data) learning rate is 0.0001\n",
    "    optimizer = torch.optim.Adam(model.parameters(), lr=0.00001)\n",
    "    \n",
    "    for instance in range(1000):\n",
    "        y_pred = model(inp)\n",
    "\n",
    "        loss = criterion(y_pred, outp)\n",
    "        losses.append(loss.data)\n",
    "        \n",
    "        optimizer.zero_grad()\n",
    "        loss.backward()\n",
    "        optimizer.step()\n",
    "        \n",
    "    return losses"
   ]
  },
  {
   "cell_type": "code",
   "execution_count": 92,
   "metadata": {},
   "outputs": [],
   "source": [
    "def get_preds(model, x_val):\n",
    "    check_x = []\n",
    "    predictions = model(x_val)\n",
    "    \n",
    "    for i in predictions:\n",
    "        check_x.append(np.argmax(list(i)))\n",
    "        \n",
    "    return check_x"
   ]
  },
  {
   "cell_type": "code",
   "execution_count": 109,
   "metadata": {},
   "outputs": [],
   "source": [
    "new_model = newNeural(2700, 100, 50, 3)"
   ]
  },
  {
   "cell_type": "code",
   "execution_count": 111,
   "metadata": {},
   "outputs": [],
   "source": [
    "first_try = new_model(X_train)"
   ]
  },
  {
   "cell_type": "markdown",
   "metadata": {},
   "source": [
    "# Attempt 1"
   ]
  },
  {
   "cell_type": "code",
   "execution_count": 112,
   "metadata": {},
   "outputs": [],
   "source": [
    "trained_nn = train_model(new_model, X_train, y_train)"
   ]
  },
  {
   "cell_type": "code",
   "execution_count": 113,
   "metadata": {},
   "outputs": [
    {
     "name": "stdout",
     "output_type": "stream",
     "text": [
      "tensor(0.0753)\n"
     ]
    },
    {
     "data": {
      "text/plain": [
       "<matplotlib.axes._subplots.AxesSubplot at 0x1a397cec50>"
      ]
     },
     "execution_count": 113,
     "metadata": {},
     "output_type": "execute_result"
    },
    {
     "data": {
      "image/png": "[encoded data removed]",
      "text/plain": [
       "<matplotlib.figure.Figure at 0x1a39c064e0>"
      ]
     },
     "metadata": {
      "needs_background": "light"
     },
     "output_type": "display_data"
    }
   ],
   "source": [
    "print(trained_nn[-1])\n",
    "pd.DataFrame(trained_nn).plot(kind='line')"
   ]
  },
  {
   "cell_type": "code",
   "execution_count": 132,
   "metadata": {},
   "outputs": [],
   "source": [
    "x_preds_1 = get_preds(new_model, X_train)\n",
    "x_real_1 = get_preds(new_model, X_test)"
   ]
  },
  {
   "cell_type": "code",
   "execution_count": 133,
   "metadata": {},
   "outputs": [
    {
     "name": "stdout",
     "output_type": "stream",
     "text": [
      "0.9891581632653061 0.9404761904761905\n"
     ]
    }
   ],
   "source": [
    "print(accuracy_score(x_preds_1, y_train), accuracy_score(x_real_1, y_test))"
   ]
  },
  {
   "cell_type": "markdown",
   "metadata": {},
   "source": [
    "# Attempt 2"
   ]
  },
  {
   "cell_type": "code",
   "execution_count": 117,
   "metadata": {},
   "outputs": [],
   "source": [
    "new_model_2 = newNeural(2700, 150, 90, 50, 3)\n",
    "trained_nn_2 = train_model(new_model_2, X_train, y_train)"
   ]
  },
  {
   "cell_type": "code",
   "execution_count": 118,
   "metadata": {},
   "outputs": [
    {
     "name": "stdout",
     "output_type": "stream",
     "text": [
      "tensor(0.0339)\n"
     ]
    },
    {
     "data": {
      "text/plain": [
       "<matplotlib.axes._subplots.AxesSubplot at 0x1a44dc3550>"
      ]
     },
     "execution_count": 118,
     "metadata": {},
     "output_type": "execute_result"
    },
    {
     "data": {
      "image/png": "[encoded data removed]",
      "text/plain": [
       "<matplotlib.figure.Figure at 0x1a3859b240>"
      ]
     },
     "metadata": {
      "needs_background": "light"
     },
     "output_type": "display_data"
    }
   ],
   "source": [
    "print(trained_nn_2[-1])\n",
    "pd.DataFrame(trained_nn_2).plot(kind='line')"
   ]
  },
  {
   "cell_type": "code",
   "execution_count": 127,
   "metadata": {},
   "outputs": [],
   "source": [
    "x_preds_2 = get_preds(new_model_2, X_train)\n",
    "x_real_2 = get_preds(new_model_2, X_test)"
   ]
  },
  {
   "cell_type": "code",
   "execution_count": 128,
   "metadata": {
    "scrolled": true
   },
   "outputs": [
    {
     "name": "stdout",
     "output_type": "stream",
     "text": [
      "0.9997874149659864 0.9583333333333334\n"
     ]
    }
   ],
   "source": [
    "print(accuracy_score(x_preds_2, y_train), accuracy_score(x_real_2, y_test))"
   ]
  },
  {
   "cell_type": "markdown",
   "metadata": {},
   "source": [
    "# Attempt 3"
   ]
  },
  {
   "cell_type": "code",
   "execution_count": 120,
   "metadata": {},
   "outputs": [],
   "source": [
    "#learning rate = 0.00001\n",
    "new_model_3 = newNeural(2700, 200, 160, 100, 40, 3)\n",
    "trained_nn_3 = train_model(new_model_3, X_train, y_train)"
   ]
  },
  {
   "cell_type": "code",
   "execution_count": 121,
   "metadata": {},
   "outputs": [
    {
     "name": "stdout",
     "output_type": "stream",
     "text": [
      "tensor(0.0126)\n"
     ]
    },
    {
     "data": {
      "text/plain": [
       "<matplotlib.axes._subplots.AxesSubplot at 0x1a39866518>"
      ]
     },
     "execution_count": 121,
     "metadata": {},
     "output_type": "execute_result"
    },
    {
     "data": {
      "image/png": "[encoded data removed]",
      "text/plain": [
       "<matplotlib.figure.Figure at 0x1a3988c390>"
      ]
     },
     "metadata": {
      "needs_background": "light"
     },
     "output_type": "display_data"
    }
   ],
   "source": [
    "print(trained_nn_3[-1])\n",
    "pd.DataFrame(trained_nn_3).plot(kind='line')"
   ]
  },
  {
   "cell_type": "code",
   "execution_count": 129,
   "metadata": {},
   "outputs": [],
   "source": [
    "x_preds_3 = get_preds(new_model_3, X_train)\n",
    "x_real_3 = get_preds(new_model_3, X_test)"
   ]
  },
  {
   "cell_type": "code",
   "execution_count": 130,
   "metadata": {},
   "outputs": [
    {
     "name": "stdout",
     "output_type": "stream",
     "text": [
      "1.0 0.9591836734693877\n"
     ]
    }
   ],
   "source": [
    "print(accuracy_score(x_preds_3, y_train), accuracy_score(x_real_3, y_test))"
   ]
  },
  {
   "cell_type": "code",
   "execution_count": null,
   "metadata": {},
   "outputs": [],
   "source": []
  }
 ],
 "metadata": {
  "kernelspec": {
   "display_name": "Python 3",
   "language": "python",
   "name": "python3"
  },
  "language_info": {
   "codemirror_mode": {
    "name": "ipython",
    "version": 3
   },
   "file_extension": ".py",
   "mimetype": "text/x-python",
   "name": "python",
   "nbconvert_exporter": "python",
   "pygments_lexer": "ipython3",
   "version": "3.6.9"
  }
 },
 "nbformat": 4,
 "nbformat_minor": 2
}
