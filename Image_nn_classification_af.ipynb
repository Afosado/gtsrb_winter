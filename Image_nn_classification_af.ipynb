{
 "cells": [
  {
   "cell_type": "code",
   "execution_count": 1,
   "metadata": {},
   "outputs": [],
   "source": [
    "import cv2\n",
    "import torch\n",
    "import pandas as pd\n",
    "import numpy as np\n",
    "from PIL import Image\n",
    "from sklearn.linear_model import LogisticRegression\n",
    "import torch\n",
    "import torch.nn as nn\n",
    "import torch.nn.functional as F\n",
    "from sklearn import preprocessing\n",
    "import matplotlib.pyplot as plt"
   ]
  },
  {
   "cell_type": "code",
   "execution_count": 2,
   "metadata": {},
   "outputs": [],
   "source": [
    "def image_arrs(paths, im_arr):\n",
    "    for path in paths:\n",
    "        #read images, may need to change filepath\n",
    "        image = cv2.imread('../GTSRB/'+path)\n",
    "        image_from_array = Image.fromarray(image, 'RGB')\n",
    "        #resize all images to 30x30\n",
    "        size_image = image_from_array.resize((30, 30))\n",
    "        #convert images to array\n",
    "        image_arr = np.array(size_image.getdata(),\n",
    "                        np.uint8).reshape(size_image.size[1], size_image.size[0], 3)\n",
    "        im_arr.append(image_arr.flatten())\n",
    "    return im_arr"
   ]
  },
  {
   "cell_type": "code",
   "execution_count": 3,
   "metadata": {},
   "outputs": [],
   "source": [
    "#this may take a minute\n",
    "#may need to change file path\n",
    "df = pd.read_csv('../GTSRB/Train.csv')\n",
    "#all filepaths for class 1-3\n",
    "paths1 = df[(df['ClassId']==1)]['Path'].values\n",
    "paths2 = df[(df['ClassId']==2)]['Path'].values\n",
    "paths3 = df[(df['ClassId']==3)]['Path'].values\n",
    "\n",
    "class1_arrs = []\n",
    "class1_arrs = image_arrs(paths1, class1_arrs)\n",
    "\n",
    "class2_arrs = []\n",
    "class2_arrs = image_arrs(paths2, class2_arrs)\n",
    "\n",
    "class3_arrs = []\n",
    "class3_arrs = image_arrs(paths3, class3_arrs)"
   ]
  },
  {
   "cell_type": "code",
   "execution_count": 4,
   "metadata": {},
   "outputs": [],
   "source": [
    "#concat data and labels\n",
    "X = class1_arrs + class2_arrs + class3_arrs\n",
    "train_y = len(class1_arrs)*[0] + len(class2_arrs)*[1] + len(class3_arrs)*[2]"
   ]
  },
  {
   "cell_type": "code",
   "execution_count": 5,
   "metadata": {},
   "outputs": [],
   "source": [
    "#create test set\n",
    "df = pd.read_csv('../GTSRB/Test.csv')\n",
    "#all filepaths for class 1-3\n",
    "paths1 = df[(df['ClassId']==1)]['Path'].values\n",
    "paths2 = df[(df['ClassId']==2)]['Path'].values\n",
    "paths3 = df[(df['ClassId']==3)]['Path'].values\n",
    "\n",
    "class1_arrs = []\n",
    "class1_arrs = image_arrs(paths1, class1_arrs)\n",
    "\n",
    "class2_arrs = []\n",
    "class2_arrs = image_arrs(paths2, class2_arrs)\n",
    "\n",
    "class3_arrs = []\n",
    "class3_arrs = image_arrs(paths3, class3_arrs)"
   ]
  },
  {
   "cell_type": "code",
   "execution_count": 6,
   "metadata": {},
   "outputs": [],
   "source": [
    "test_X = class1_arrs + class2_arrs + class3_arrs\n",
    "test_y = len(class1_arrs)*[0] + len(class2_arrs)*[1] + len(class3_arrs)*[2]"
   ]
  },
  {
   "cell_type": "code",
   "execution_count": 7,
   "metadata": {},
   "outputs": [
    {
     "data": {
      "text/plain": [
       "<matplotlib.image.AxesImage at 0x2eacf3d7550>"
      ]
     },
     "execution_count": 7,
     "metadata": {},
     "output_type": "execute_result"
    },
    {
     "data": {
      "image/png": "[encoded data removed]",
      "text/plain": [
       "<Figure size 432x288 with 1 Axes>"
      ]
     },
     "metadata": {
      "needs_background": "light"
     },
     "output_type": "display_data"
    }
   ],
   "source": [
    "ex1 = X[0].reshape(30, 30, 3)\n",
    "plt.imshow(ex1)"
   ]
  },
  {
   "cell_type": "code",
   "execution_count": 8,
   "metadata": {},
   "outputs": [],
   "source": [
    "#mean and std of each column is 0, 1\n",
    "train_X = preprocessing.scale(X, axis=1)\n",
    "test_X = preprocessing.scale(test_X, axis=1)"
   ]
  },
  {
   "cell_type": "code",
   "execution_count": 9,
   "metadata": {},
   "outputs": [
    {
     "name": "stderr",
     "output_type": "stream",
     "text": [
      "C:\\Users\\aleja\\Anaconda3\\lib\\site-packages\\sklearn\\linear_model\\logistic.py:432: FutureWarning: Default solver will be changed to 'lbfgs' in 0.22. Specify a solver to silence this warning.\n",
      "  FutureWarning)\n",
      "C:\\Users\\aleja\\Anaconda3\\lib\\site-packages\\sklearn\\linear_model\\logistic.py:469: FutureWarning: Default multi_class will be changed to 'auto' in 0.22. Specify the multi_class option to silence this warning.\n",
      "  \"this warning.\", FutureWarning)\n"
     ]
    },
    {
     "name": "stdout",
     "output_type": "stream",
     "text": [
      "Training accuracy: 1.0\n",
      "Test accuracy: 0.9192708333333334\n"
     ]
    }
   ],
   "source": [
    "#sklearn baseline\n",
    "model = LogisticRegression()\n",
    "model.fit(train_X, train_y)\n",
    "print('Training accuracy:', model.score(train_X, train_y))\n",
    "print('Test accuracy:', model.score(test_X, test_y))"
   ]
  },
  {
   "cell_type": "code",
   "execution_count": 10,
   "metadata": {},
   "outputs": [],
   "source": [
    "#Convert from numpy array to tensor\n",
    "train_X = torch.from_numpy(train_X).float()\n",
    "train_y = torch.from_numpy(np.array(train_y)).long()\n",
    "test_X = torch.from_numpy(test_X).float()\n",
    "test_y = torch.from_numpy(np.array(test_y)).long()"
   ]
  },
  {
   "cell_type": "code",
   "execution_count": 11,
   "metadata": {},
   "outputs": [],
   "source": [
    "class ANN(nn.Module):\n",
    "    def __init__(self, D):\n",
    "        super().__init__()\n",
    "        self.linear1 = nn.Linear(D, 1000)\n",
    "        self.linear2 = nn.Linear(1000, 500)\n",
    "        self.linear3 = nn.Linear(500, 3)\n",
    "        \n",
    "    def forward(self, x):\n",
    "        x = torch.tanh(self.linear1(x))\n",
    "        x = torch.tanh(self.linear2(x))\n",
    "        x = torch.tanh(self.linear3(x))\n",
    "        return x"
   ]
  },
  {
   "cell_type": "code",
   "execution_count": 12,
   "metadata": {},
   "outputs": [
    {
     "data": {
      "text/plain": [
       "device(type='cuda', index=0)"
      ]
     },
     "execution_count": 12,
     "metadata": {},
     "output_type": "execute_result"
    }
   ],
   "source": [
    "device = torch.device(\"cuda:0\" if torch.cuda.is_available() else \"cpu\")\n",
    "device"
   ]
  },
  {
   "cell_type": "code",
   "execution_count": 13,
   "metadata": {},
   "outputs": [],
   "source": [
    "model = ANN(train_X.shape[1]).to(device)"
   ]
  },
  {
   "cell_type": "code",
   "execution_count": 14,
   "metadata": {},
   "outputs": [],
   "source": [
    "criterion = nn.CrossEntropyLoss()\n",
    "optimizer = torch.optim.Adam(model.parameters(), lr=.0001)"
   ]
  },
  {
   "cell_type": "code",
   "execution_count": 15,
   "metadata": {},
   "outputs": [
    {
     "name": "stdout",
     "output_type": "stream",
     "text": [
      "Final training accuracy: 0.9989796280860901\n",
      "Final test accuracy: 0.9093750715255737\n"
     ]
    }
   ],
   "source": [
    "#number of iterations\n",
    "epochs = 300\n",
    "\n",
    "#used to keep track of the changes in accuracy and loss\n",
    "running_loss = 0\n",
    "train_accs = []\n",
    "test_accs = []\n",
    "losses = []\n",
    "\n",
    "#train on gpu\n",
    "train_X = train_X.to(device)\n",
    "train_y = train_y.to(device)\n",
    "test_X = test_X.to(device)\n",
    "test_y = test_y.to(device)\n",
    "\n",
    "#training loop\n",
    "for e in range(epochs):\n",
    "    #standard training steps\n",
    "    pred = model.forward(train_X)\n",
    "    loss = criterion(pred, train_y)\n",
    "    running_loss += loss.item()\n",
    "    optimizer.zero_grad()\n",
    "    loss.backward()\n",
    "    optimizer.step()\n",
    "    \n",
    "    #store current loss and accuracy for test and training set\n",
    "    if e%25==0 and e>0:\n",
    "        running_loss /= 100\n",
    "#         print(\"epoch:\", e, \"loss\", running_loss/100)\n",
    "        losses.append(running_loss)\n",
    "        running_loss = 0\n",
    "        pred = torch.argmax(pred, axis=1)\n",
    "        train_acc = torch.sum(pred==train_y).float()/len(pred)\n",
    "#         print('training accuracy:', train_acc.item())\n",
    "        train_accs.append(train_acc.item())\n",
    "        test_pred = model.forward(test_X)\n",
    "        test_pred = torch.argmax(test_pred, axis=1)\n",
    "        test_acc = torch.sum(test_pred==test_y).float()/len(test_pred)\n",
    "#         print('test accuracy:', test_acc.item())\n",
    "        test_accs.append(test_acc.item())\n",
    "print('Final training accuracy:', train_accs[-1])\n",
    "print('Final test accuracy:', test_accs[-1])"
   ]
  },
  {
   "cell_type": "code",
   "execution_count": 16,
   "metadata": {},
   "outputs": [
    {
     "data": {
      "image/png": "[encoded data removed]",
      "text/plain": [
       "<Figure size 432x288 with 1 Axes>"
      ]
     },
     "metadata": {
      "needs_background": "light"
     },
     "output_type": "display_data"
    },
    {
     "data": {
      "image/png": "[encoded data removed]",
      "text/plain": [
       "<Figure size 432x288 with 1 Axes>"
      ]
     },
     "metadata": {
      "needs_background": "light"
     },
     "output_type": "display_data"
    }
   ],
   "source": [
    "plt.plot(train_accs, label='Train Accuracy')\n",
    "plt.plot(test_accs, label='Test Accuracy')\n",
    "plt.title('Accuracy vs. Iterations')\n",
    "plt.xlabel('Iteration')\n",
    "plt.ylabel('Accuracy (%)')\n",
    "plt.legend()\n",
    "plt.show()\n",
    "plt.plot(losses)\n",
    "plt.title('Loss vs. Iterations')\n",
    "plt.xlabel('Iteration')\n",
    "plt.ylabel('Loss')\n",
    "plt.show()"
   ]
  },
  {
   "cell_type": "code",
   "execution_count": 17,
   "metadata": {},
   "outputs": [],
   "source": [
    "class ANN2(nn.Module):\n",
    "    def __init__(self, D):\n",
    "        super().__init__()\n",
    "        self.linear1 = nn.Linear(D, 500)\n",
    "        self.linear2 = nn.Linear(500, 250)\n",
    "        self.linear3 = nn.Linear(250, 125)\n",
    "        self.linear4 = nn.Linear(125, 50)\n",
    "        self.linear5 = nn.Linear(50, 25)\n",
    "        self.linear6 = nn.Linear(25, 3)\n",
    "        \n",
    "    def forward(self, x):\n",
    "        x = torch.tanh(self.linear1(x))\n",
    "        x = torch.tanh(self.linear2(x))\n",
    "        x = torch.tanh(self.linear3(x))\n",
    "        x = torch.tanh(self.linear4(x))\n",
    "        x = torch.tanh(self.linear5(x))\n",
    "        x = torch.tanh(self.linear6(x))\n",
    "        return x"
   ]
  },
  {
   "cell_type": "code",
   "execution_count": 18,
   "metadata": {},
   "outputs": [],
   "source": [
    "model = ANN2(train_X.shape[1]).to(device)"
   ]
  },
  {
   "cell_type": "code",
   "execution_count": 19,
   "metadata": {},
   "outputs": [],
   "source": [
    "criterion = nn.CrossEntropyLoss()\n",
    "optimizer = torch.optim.Adam(model.parameters(), lr=.0001)"
   ]
  },
  {
   "cell_type": "code",
   "execution_count": 20,
   "metadata": {},
   "outputs": [
    {
     "name": "stdout",
     "output_type": "stream",
     "text": [
      "Final training accuracy: 0.9996598958969116\n",
      "Final test accuracy: 0.9083333611488342\n"
     ]
    }
   ],
   "source": [
    "#number of iterations\n",
    "epochs = 300\n",
    "\n",
    "#used to keep track of the changes in accuracy and loss\n",
    "running_loss = 0\n",
    "train_accs = []\n",
    "test_accs = []\n",
    "losses = []\n",
    "\n",
    "#train on gpu\n",
    "train_X = train_X.to(device)\n",
    "train_y = train_y.to(device)\n",
    "test_X = test_X.to(device)\n",
    "test_y = test_y.to(device)\n",
    "\n",
    "#training loop\n",
    "for e in range(epochs):\n",
    "\n",
    "    #standard training steps\n",
    "    pred = model.forward(train_X)\n",
    "    loss = criterion(pred, train_y)\n",
    "    running_loss += loss.item()\n",
    "    optimizer.zero_grad()\n",
    "    loss.backward()\n",
    "    optimizer.step()\n",
    "    \n",
    "    #store current loss and accuracy for test and training set\n",
    "    if e%25==0 and e>0:\n",
    "        running_loss /= 100\n",
    "#         print(\"epoch:\", e, \"loss\", running_loss/100)\n",
    "        losses.append(running_loss)\n",
    "        running_loss = 0\n",
    "        pred = torch.argmax(pred, axis=1)\n",
    "        train_acc = torch.sum(pred==train_y).float()/len(pred)\n",
    "#         print('training accuracy:', train_acc.item())\n",
    "        train_accs.append(train_acc.item())\n",
    "        test_pred = model.forward(test_X)\n",
    "        test_pred = torch.argmax(test_pred, axis=1)\n",
    "        test_acc = torch.sum(test_pred==test_y).float()/len(test_pred)\n",
    "#         print('test accuracy:', test_acc.item())\n",
    "        test_accs.append(test_acc.item())\n",
    "print('Final training accuracy:', train_accs[-1])\n",
    "print('Final test accuracy:', test_accs[-1])"
   ]
  },
  {
   "cell_type": "code",
   "execution_count": 21,
   "metadata": {},
   "outputs": [
    {
     "data": {
      "image/png": "[encoded data removed]",
      "text/plain": [
       "<Figure size 432x288 with 1 Axes>"
      ]
     },
     "metadata": {
      "needs_background": "light"
     },
     "output_type": "display_data"
    },
    {
     "data": {
      "image/png": "[encoded data removed]",
      "text/plain": [
       "<Figure size 432x288 with 1 Axes>"
      ]
     },
     "metadata": {
      "needs_background": "light"
     },
     "output_type": "display_data"
    }
   ],
   "source": [
    "plt.plot(train_accs, label='Train Accuracy')\n",
    "plt.plot(test_accs, label='Test Accuracy')\n",
    "plt.title('Accuracy vs. Iterations')\n",
    "plt.xlabel('Iteration')\n",
    "plt.ylabel('Accuracy (%)')\n",
    "plt.legend()\n",
    "plt.show()\n",
    "plt.plot(losses)\n",
    "plt.title('Loss vs. Iterations')\n",
    "plt.xlabel('Iteration')\n",
    "plt.ylabel('Loss')\n",
    "plt.show()"
   ]
  },
  {
   "cell_type": "code",
   "execution_count": null,
   "metadata": {},
   "outputs": [],
   "source": []
  }
 ],
 "metadata": {
  "kernelspec": {
   "display_name": "Python 3",
   "language": "python",
   "name": "python3"
  },
  "language_info": {
   "codemirror_mode": {
    "name": "ipython",
    "version": 3
   },
   "file_extension": ".py",
   "mimetype": "text/x-python",
   "name": "python",
   "nbconvert_exporter": "python",
   "pygments_lexer": "ipython3",
   "version": "3.7.3"
  }
 },
 "nbformat": 4,
 "nbformat_minor": 2
}
