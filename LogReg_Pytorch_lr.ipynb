{
 "cells": [
  {
   "cell_type": "markdown",
   "metadata": {},
   "source": [
    "## Logistic Regression Using Pytorch"
   ]
  },
  {
   "cell_type": "code",
   "execution_count": 2,
   "metadata": {},
   "outputs": [],
   "source": [
    "import pandas as pd\n",
    "import numpy as np\n",
    "import torch\n",
    "import cv2\n",
    "from PIL import Image\n",
    "import torch.nn.functional as F\n",
    "import matplotlib.pyplot as plt\n",
    "from sklearn.model_selection import train_test_split\n",
    "from sklearn.preprocessing import StandardScaler\n",
    "from torch.autograd import Variable"
   ]
  },
  {
   "cell_type": "markdown",
   "metadata": {},
   "source": [
    "Preprocess data"
   ]
  },
  {
   "cell_type": "code",
   "execution_count": 3,
   "metadata": {},
   "outputs": [],
   "source": [
    "#reading in images to arrays\n",
    "def image_arrs(paths, im_arr):\n",
    "    for path in paths:\n",
    "        image = cv2.imread(path)\n",
    "        image_from_array = Image.fromarray(image, 'RGB')\n",
    "        #resize\n",
    "        size_image = image_from_array.resize((30,30))\n",
    "        image_arr = np.array(size_image.getdata(),np.uint8).reshape(size_image.size[1], size_image.size[0],3)\n",
    "        im_arr.append(image_arr.flatten())\n",
    "    return im_arr"
   ]
  },
  {
   "cell_type": "code",
   "execution_count": 4,
   "metadata": {},
   "outputs": [],
   "source": [
    "#train and testing data\n",
    "df_train = pd.read_csv('Train.csv')\n",
    "df_test = pd.read_csv('Test.csv')\n",
    "\n",
    "paths1_train = df_train[(df_train['ClassId'] ==1)]['Path'].values\n",
    "paths2_train = df_train[(df_train['ClassId'] ==2)]['Path'].values\n",
    "#paths1_test = df_test[(df_test['ClassId'] ==1)]['Path'].values\n",
    "#paths2_test = df_test[(df_test['ClassId'] ==2)]['Path'].values\n",
    "\n",
    "class1_train_arrs = []\n",
    "class1_train_arrs = image_arrs(paths1_train, class1_train_arrs)\n",
    "#class1_test_arrs = []\n",
    "#class1_test_arrs = image_arrs(paths2_test, class1_test_arrs)\n",
    "\n",
    "class2_train_arrs = []\n",
    "class2_train_arrs = image_arrs(paths2_train, class2_train_arrs)\n",
    "#class2_test_arrs = []\n",
    "#class2_test_arrs = image_arrs(paths2_test, class2_test_arrs)"
   ]
  },
  {
   "cell_type": "code",
   "execution_count": 5,
   "metadata": {},
   "outputs": [],
   "source": [
    "#concat data/labels\n",
    "X = class1_train_arrs + class2_train_arrs\n",
    "y = (len(class1_train_arrs)*[0]) + (len(class2_train_arrs)*[1])"
   ]
  },
  {
   "cell_type": "code",
   "execution_count": 6,
   "metadata": {},
   "outputs": [],
   "source": [
    "X_train, X_test, y_train, y_test = train_test_split(np.array(X), np.array(y), test_size=0.2, random_state = 0)"
   ]
  },
  {
   "cell_type": "code",
   "execution_count": 7,
   "metadata": {},
   "outputs": [
    {
     "name": "stdout",
     "output_type": "stream",
     "text": [
      "[43 66 81 32 48 56 27 40 42 36]\n",
      "[41 44 51 50 53 63 58 61 63 40]\n",
      "[-0.61204143 -0.3915618  -0.26277086 -0.75247581 -0.63022327 -0.60830443\n",
      " -0.82899279 -0.7404938  -0.80027516 -0.7158131 ]\n",
      "[-0.63866892 -0.68640809 -0.65844301 -0.51421481 -0.5633783  -0.51614033\n",
      " -0.41744409 -0.46045088 -0.52659857 -0.66243165]\n"
     ]
    }
   ],
   "source": [
    "# scale images\n",
    "print(X_train[0][:10])\n",
    "print(X_test[0][:10])\n",
    "sc = StandardScaler()\n",
    "X_train = sc.fit_transform(X_train)\n",
    "X_test = sc.transform(X_test)\n",
    "print(X_train[0][:10])\n",
    "print(X_test[0][:10])"
   ]
  },
  {
   "cell_type": "code",
   "execution_count": 8,
   "metadata": {},
   "outputs": [],
   "source": [
    "# array to tensor\n",
    "X_train = torch.from_numpy(X_train).float()\n",
    "y_train = torch.from_numpy(y_train).float()\n",
    "X_test = torch.from_numpy(X_test).float()\n",
    "y_test = torch.from_numpy(y_test).float()"
   ]
  },
  {
   "cell_type": "code",
   "execution_count": 9,
   "metadata": {},
   "outputs": [
    {
     "name": "stderr",
     "output_type": "stream",
     "text": [
      "Clipping input data to the valid range for imshow with RGB data ([0..1] for floats or [0..255] for integers).\n"
     ]
    },
    {
     "data": {
      "image/png": "[encoded data removed]",
      "text/plain": [
       "<Figure size 432x288 with 1 Axes>"
      ]
     },
     "metadata": {
      "needs_background": "light"
     },
     "output_type": "display_data"
    },
    {
     "name": "stderr",
     "output_type": "stream",
     "text": [
      "Clipping input data to the valid range for imshow with RGB data ([0..1] for floats or [0..255] for integers).\n"
     ]
    },
    {
     "data": {
      "image/png": "[encoded data removed]",
      "text/plain": [
       "<Figure size 432x288 with 1 Axes>"
      ]
     },
     "metadata": {
      "needs_background": "light"
     },
     "output_type": "display_data"
    }
   ],
   "source": [
    "plt.imshow(X_train[0].view(30,30,3))\n",
    "plt.show()\n",
    "\n",
    "plt.imshow(X_train[1].view(30,30,3))\n",
    "plt.show()"
   ]
  },
  {
   "cell_type": "code",
   "execution_count": 10,
   "metadata": {},
   "outputs": [
    {
     "name": "stdout",
     "output_type": "stream",
     "text": [
      "3576 3576\n",
      "894 894\n"
     ]
    }
   ],
   "source": [
    "print(len(X_train), len(y_train))\n",
    "print(len(X_test), len(y_test))"
   ]
  },
  {
   "cell_type": "code",
   "execution_count": 11,
   "metadata": {},
   "outputs": [
    {
     "name": "stdout",
     "output_type": "stream",
     "text": [
      "3576\n"
     ]
    }
   ],
   "source": [
    "#create training and testing sets\n",
    "train_data = [(X_train[i], y_train[i]) for i in range(len(X_train))]\n",
    "test_data = [(X_test[i], y_test[i]) for i in range(len(X_test))]\n",
    "\n",
    "print(len(train_data))\n",
    "    \n",
    "trainset = torch.utils.data.DataLoader(train_data, batch_size=100, shuffle=True)\n",
    "testset = torch.utils.data.DataLoader(test_data, batch_size=100, shuffle=True)"
   ]
  },
  {
   "cell_type": "markdown",
   "metadata": {},
   "source": [
    "Logistic Regression"
   ]
  },
  {
   "cell_type": "code",
   "execution_count": 53,
   "metadata": {},
   "outputs": [],
   "source": [
    "class LogReg(torch.nn.Module):\n",
    "    \n",
    "    def __init__(self):\n",
    "        super(LogReg, self).__init__()\n",
    "        self.linear = torch.nn.Linear(2700, 1)\n",
    "        \n",
    "    def forward(self, x):\n",
    "        y_pred = F.sigmoid(self.linear(x))\n",
    "        return y_pred"
   ]
  },
  {
   "cell_type": "code",
   "execution_count": 58,
   "metadata": {},
   "outputs": [],
   "source": [
    "model = LogReg()\n",
    "\n",
    "criterion = torch.nn.BCELoss(size_average=True)\n",
    "optimizer = torch.optim.SGD(model.parameters(), lr=0.01)\n",
    "EPOCHS = 1000\n",
    "training_loss = []\n",
    "train_acc = []\n",
    "test_acc = []"
   ]
  },
  {
   "cell_type": "code",
   "execution_count": 59,
   "metadata": {},
   "outputs": [
    {
     "name": "stdout",
     "output_type": "stream",
     "text": [
      "0 0.685893177986145 Accuracy: 0.6152125279642058\n",
      "100 0.32600727677345276 Accuracy: 0.9071588366890381\n",
      "200 0.2581084668636322 Accuracy: 0.9295302013422819\n",
      "300 0.22341379523277283 Accuracy: 0.9407158836689038\n",
      "400 0.2012125700712204 Accuracy: 0.9407158836689038\n",
      "500 0.18531814217567444 Accuracy: 0.9463087248322147\n",
      "600 0.17314347624778748 Accuracy: 0.9496644295302014\n",
      "700 0.16338618099689484 Accuracy: 0.9541387024608501\n",
      "800 0.15531009435653687 Accuracy: 0.9574944071588367\n",
      "900 0.1484616994857788 Accuracy: 0.9574944071588367\n"
     ]
    }
   ],
   "source": [
    "#Begin training\n",
    "\n",
    "for epoch in range(EPOCHS):\n",
    "    \n",
    "    y_pred = model(X_train)\n",
    "    \n",
    "    loss = criterion(y_pred, y_train)\n",
    "    training_loss.append(loss)\n",
    " \n",
    "        \n",
    "    #gradient descent\n",
    "    optimizer.zero_grad()\n",
    "    loss.backward()\n",
    "    optimizer.step()\n",
    "    \n",
    "    if epoch % 100== 0:\n",
    "        correct = 0\n",
    "        total = 0\n",
    "\n",
    "        for data in trainset:\n",
    "            X,y = data\n",
    "            output = model(X)\n",
    "            for idx, i in enumerate(output):\n",
    "                if torch.round(i) == y[idx]:\n",
    "                    correct+=1\n",
    "                total+=1\n",
    "            train_acc.append(correct/total)\n",
    "\n",
    "        correct = 0\n",
    "        total = 0\n",
    "\n",
    "        for data in testset:\n",
    "            X,y = data\n",
    "            output = model(X)\n",
    "            for idx, i in enumerate(output):\n",
    "                if torch.round(i) == y[idx]:\n",
    "                    correct+=1\n",
    "                total+=1\n",
    "            test_acc.append(correct/total)\n",
    "       \n",
    "    \n",
    "        print(epoch, loss.item(), \"Accuracy:\", correct/total)\n",
    "        \n",
    "        "
   ]
  },
  {
   "cell_type": "code",
   "execution_count": 60,
   "metadata": {},
   "outputs": [
    {
     "data": {
      "text/plain": [
       "[<matplotlib.lines.Line2D at 0x1a47cc6ba8>]"
      ]
     },
     "execution_count": 60,
     "metadata": {},
     "output_type": "execute_result"
    },
    {
     "data": {
      "image/png": "[encoded data removed]",
      "text/plain": [
       "<Figure size 432x288 with 1 Axes>"
      ]
     },
     "metadata": {
      "needs_background": "light"
     },
     "output_type": "display_data"
    }
   ],
   "source": [
    "plt.plot(training_loss)"
   ]
  },
  {
   "cell_type": "code",
   "execution_count": 61,
   "metadata": {},
   "outputs": [
    {
     "data": {
      "text/plain": [
       "[<matplotlib.lines.Line2D at 0x1a47cf8048>]"
      ]
     },
     "execution_count": 61,
     "metadata": {},
     "output_type": "execute_result"
    },
    {
     "data": {
      "image/png": "[encoded data removed]",
      "text/plain": [
       "<Figure size 432x288 with 1 Axes>"
      ]
     },
     "metadata": {
      "needs_background": "light"
     },
     "output_type": "display_data"
    }
   ],
   "source": [
    "plt.plot(train_acc)\n",
    "plt.plot(test_acc)"
   ]
  },
  {
   "cell_type": "code",
   "execution_count": null,
   "metadata": {},
   "outputs": [],
   "source": []
  },
  {
   "cell_type": "code",
   "execution_count": null,
   "metadata": {},
   "outputs": [],
   "source": []
  },
  {
   "cell_type": "code",
   "execution_count": 62,
   "metadata": {},
   "outputs": [
    {
     "name": "stdout",
     "output_type": "stream",
     "text": [
      "Train Accuracy 0.966\n"
     ]
    }
   ],
   "source": [
    "#see training accuracy\n",
    "correct = 0\n",
    "total = 0\n",
    "\n",
    "for data in trainset:\n",
    "    X,y = data\n",
    "    output = model(X)\n",
    "    for idx, i in enumerate(output):\n",
    "        if torch.round(i) == y[idx]:\n",
    "            correct+=1\n",
    "        total+=1\n",
    "\n",
    "print('Train Accuracy', round(correct/total, 3))\n",
    "\n"
   ]
  },
  {
   "cell_type": "code",
   "execution_count": null,
   "metadata": {},
   "outputs": [],
   "source": []
  }
 ],
 "metadata": {
  "kernelspec": {
   "display_name": "Python 3",
   "language": "python",
   "name": "python3"
  },
  "language_info": {
   "codemirror_mode": {
    "name": "ipython",
    "version": 3
   },
   "file_extension": ".py",
   "mimetype": "text/x-python",
   "name": "python",
   "nbconvert_exporter": "python",
   "pygments_lexer": "ipython3",
   "version": "3.7.3"
  }
 },
 "nbformat": 4,
 "nbformat_minor": 2
}
