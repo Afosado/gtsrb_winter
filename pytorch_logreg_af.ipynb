{
 "cells": [
  {
   "cell_type": "code",
   "execution_count": 12,
   "metadata": {},
   "outputs": [],
   "source": [
    "import cv2\n",
    "from PIL import Image\n",
    "from sklearn import preprocessing\n",
    "from sklearn.utils import shuffle\n",
    "from sklearn.linear_model import LogisticRegression\n",
    "import pandas as pd\n",
    "import numpy as np\n",
    "import matplotlib.pyplot as plt\n",
    "import torch\n",
    "import torch.nn as nn\n",
    "import torch.nn.functional as F"
   ]
  },
  {
   "cell_type": "code",
   "execution_count": 13,
   "metadata": {},
   "outputs": [],
   "source": [
    "def image_arrs(paths, im_arr):\n",
    "    for path in paths:\n",
    "        #read images, may need to change filepath\n",
    "        image = cv2.imread('../GTSRB/'+path)\n",
    "        image_from_array = Image.fromarray(image, 'RGB')\n",
    "        #resize all images to 30x30\n",
    "        size_image = image_from_array.resize((30, 30))\n",
    "        #convert images to array\n",
    "        image_arr = np.array(size_image.getdata(),\n",
    "                        np.uint8).reshape(size_image.size[1], size_image.size[0], 3)\n",
    "        im_arr.append(image_arr.flatten())\n",
    "    return im_arr"
   ]
  },
  {
   "cell_type": "code",
   "execution_count": 14,
   "metadata": {},
   "outputs": [],
   "source": [
    "#this may take a minute\n",
    "df = pd.read_csv('../GTSRB/Train.csv')\n",
    "#all filepaths for class 1 and 2\n",
    "paths1 = df[(df['ClassId']==1)]['Path'].values\n",
    "paths2 = df[(df['ClassId']==2)]['Path'].values\n",
    "\n",
    "class1_arrs = []\n",
    "class1_arrs = image_arrs(paths1, class1_arrs)\n",
    "\n",
    "class2_arrs = []\n",
    "class2_arrs = image_arrs(paths2, class2_arrs)"
   ]
  },
  {
   "cell_type": "code",
   "execution_count": 15,
   "metadata": {},
   "outputs": [
    {
     "data": {
      "text/plain": [
       "<matplotlib.image.AxesImage at 0x2c9c10756d8>"
      ]
     },
     "execution_count": 15,
     "metadata": {},
     "output_type": "execute_result"
    },
    {
     "data": {
      "image/png": "[encoded data removed]",
      "text/plain": [
       "<Figure size 432x288 with 1 Axes>"
      ]
     },
     "metadata": {
      "needs_background": "light"
     },
     "output_type": "display_data"
    }
   ],
   "source": [
    "#class 1\n",
    "ex1 = class1_arrs[0].reshape(30, 30, 3)\n",
    "plt.imshow(ex1)"
   ]
  },
  {
   "cell_type": "code",
   "execution_count": 16,
   "metadata": {},
   "outputs": [
    {
     "data": {
      "text/plain": [
       "<matplotlib.image.AxesImage at 0x2c9c0a52da0>"
      ]
     },
     "execution_count": 16,
     "metadata": {},
     "output_type": "execute_result"
    },
    {
     "data": {
      "image/png": "[encoded data removed]",
      "text/plain": [
       "<Figure size 432x288 with 1 Axes>"
      ]
     },
     "metadata": {
      "needs_background": "light"
     },
     "output_type": "display_data"
    }
   ],
   "source": [
    "#class 2\n",
    "ex2 = class2_arrs[100].reshape(30, 30, 3)\n",
    "plt.imshow(ex2)"
   ]
  },
  {
   "cell_type": "code",
   "execution_count": 17,
   "metadata": {},
   "outputs": [],
   "source": [
    "#define logreg model\n",
    "class Model(nn.Module):\n",
    "    def __init__(self, D):\n",
    "        super().__init__()\n",
    "        self.linear = nn.Linear(D,1)\n",
    "        \n",
    "    def forward(self, x):\n",
    "        x = torch.sigmoid(self.linear(x))\n",
    "        return x"
   ]
  },
  {
   "cell_type": "code",
   "execution_count": 18,
   "metadata": {},
   "outputs": [],
   "source": [
    "#scale train set\n",
    "train_X = class1_arrs + class2_arrs\n",
    "train_y = len(class1_arrs)*[0]+len(class2_arrs)*[1]\n",
    "train_X = preprocessing.scale(train_X, axis=1)"
   ]
  },
  {
   "cell_type": "code",
   "execution_count": 19,
   "metadata": {},
   "outputs": [],
   "source": [
    "#scale test set\n",
    "df = pd.read_csv('../GTSRB/Test.csv')\n",
    "#all filepaths for class 1 and 2\n",
    "paths1 = df[(df['ClassId']==1)]['Path'].values\n",
    "paths2 = df[(df['ClassId']==2)]['Path'].values\n",
    "\n",
    "class1_arrs = []\n",
    "class1_arrs = image_arrs(paths1, class1_arrs)\n",
    "\n",
    "class2_arrs = []\n",
    "class2_arrs = image_arrs(paths2, class2_arrs)\n",
    "test_X = class1_arrs + class2_arrs\n",
    "test_y = len(class1_arrs)*[0]+len(class2_arrs)*[1]\n",
    "test_X = preprocessing.scale(test_X, axis=1)"
   ]
  },
  {
   "cell_type": "code",
   "execution_count": 20,
   "metadata": {},
   "outputs": [
    {
     "name": "stderr",
     "output_type": "stream",
     "text": [
      "C:\\Users\\aleja\\Anaconda3\\lib\\site-packages\\sklearn\\linear_model\\logistic.py:432: FutureWarning: Default solver will be changed to 'lbfgs' in 0.22. Specify a solver to silence this warning.\n",
      "  FutureWarning)\n"
     ]
    },
    {
     "name": "stdout",
     "output_type": "stream",
     "text": [
      "Training accuracy: 1.0\n",
      "Validation accuracy: 0.9231292517006803\n"
     ]
    }
   ],
   "source": [
    "#sklearn baseline\n",
    "model = LogisticRegression()\n",
    "model.fit(train_X, train_y)\n",
    "print('Training accuracy:', model.score(train_X, train_y))\n",
    "print('Validation accuracy:', model.score(test_X, test_y))"
   ]
  },
  {
   "cell_type": "code",
   "execution_count": 21,
   "metadata": {},
   "outputs": [],
   "source": [
    "#convert to tensor\n",
    "train_X = torch.from_numpy(train_X).float()\n",
    "test_X = torch.from_numpy(test_X).float()\n",
    "train_y = torch.from_numpy(np.array(train_y).reshape(-1,1)).float()\n",
    "test_y = torch.from_numpy(np.array(test_y).reshape(-1,1)).float()"
   ]
  },
  {
   "cell_type": "code",
   "execution_count": 22,
   "metadata": {},
   "outputs": [
    {
     "data": {
      "text/plain": [
       "device(type='cuda', index=0)"
      ]
     },
     "execution_count": 22,
     "metadata": {},
     "output_type": "execute_result"
    }
   ],
   "source": [
    "#use gpu\n",
    "device = torch.device(\"cuda:0\" if torch.cuda.is_available() else \"cpu\")\n",
    "device"
   ]
  },
  {
   "cell_type": "code",
   "execution_count": 23,
   "metadata": {},
   "outputs": [],
   "source": [
    "#instanciate model and move to gpu\n",
    "model = Model(train_X.shape[1]).to(device)"
   ]
  },
  {
   "cell_type": "code",
   "execution_count": 24,
   "metadata": {},
   "outputs": [],
   "source": [
    "#define loss function and optimizer\n",
    "criterion = nn.BCELoss()\n",
    "optimizer = torch.optim.Adam(model.parameters(), lr=.002)"
   ]
  },
  {
   "cell_type": "code",
   "execution_count": 27,
   "metadata": {},
   "outputs": [
    {
     "name": "stdout",
     "output_type": "stream",
     "text": [
      "Final training accuracy: 0.999776303768158\n",
      "Final test accuracy: 0.9074829816818237\n"
     ]
    }
   ],
   "source": [
    "#number of iterations\n",
    "epochs = 1200\n",
    "\n",
    "#used to keep track of the changes in accuracy and loss\n",
    "running_loss = 0\n",
    "train_accs = []\n",
    "test_accs = []\n",
    "losses = []\n",
    "\n",
    "#train on gpu\n",
    "train_X = train_X.to(device)\n",
    "test_X = test_X.to(device)\n",
    "train_y = train_y.to(device)\n",
    "test_y = test_y.to(device)\n",
    "\n",
    "#training loop\n",
    "for e in range(epochs):\n",
    "\n",
    "    #standard training steps\n",
    "    pred = model.forward(train_X)\n",
    "    loss = criterion(pred, train_y)\n",
    "    running_loss += loss.item()\n",
    "    optimizer.zero_grad()\n",
    "    loss.backward()\n",
    "    optimizer.step()\n",
    "    \n",
    "    #store current loss and accuracy for validation and training set\n",
    "    if e%25==0 and e>0:\n",
    "        running_loss /= 100\n",
    "        losses.append(running_loss)\n",
    "        running_loss = 0\n",
    "        pred = torch.round(pred)\n",
    "        train_acc = torch.sum(\n",
    "            pred==train_y).float()/len(pred)\n",
    "        train_accs.append(train_acc.item())\n",
    "        pred = model.forward(test_X)\n",
    "        pred = torch.round(pred)\n",
    "        test_acc = torch.sum(\n",
    "            pred==test_y).float()/len(pred)\n",
    "        test_accs.append(test_acc.item())\n",
    "print('Final training accuracy:', train_accs[-1])\n",
    "print('Final test accuracy:', test_accs[-1])"
   ]
  },
  {
   "cell_type": "code",
   "execution_count": 28,
   "metadata": {},
   "outputs": [
    {
     "data": {
      "image/png": "[encoded data removed]",
      "text/plain": [
       "<Figure size 432x288 with 1 Axes>"
      ]
     },
     "metadata": {
      "needs_background": "light"
     },
     "output_type": "display_data"
    },
    {
     "data": {
      "image/png": "[encoded data removed]",
      "text/plain": [
       "<Figure size 432x288 with 1 Axes>"
      ]
     },
     "metadata": {
      "needs_background": "light"
     },
     "output_type": "display_data"
    }
   ],
   "source": [
    "plt.plot(train_accs, label='Train Accuracy')\n",
    "plt.plot(test_accs, label='Test Accuracy')\n",
    "plt.title('Accuracy vs. Iterations')\n",
    "plt.xlabel('Iteration')\n",
    "plt.ylabel('Accuracy (%)')\n",
    "plt.legend()\n",
    "plt.show()\n",
    "plt.plot(losses)\n",
    "plt.title('Loss vs. Iterations')\n",
    "plt.xlabel('Iteration')\n",
    "plt.ylabel('Loss')\n",
    "plt.show()"
   ]
  },
  {
   "cell_type": "code",
   "execution_count": null,
   "metadata": {},
   "outputs": [],
   "source": []
  }
 ],
 "metadata": {
  "kernelspec": {
   "display_name": "Python 3",
   "language": "python",
   "name": "python3"
  },
  "language_info": {
   "codemirror_mode": {
    "name": "ipython",
    "version": 3
   },
   "file_extension": ".py",
   "mimetype": "text/x-python",
   "name": "python",
   "nbconvert_exporter": "python",
   "pygments_lexer": "ipython3",
   "version": "3.7.3"
  }
 },
 "nbformat": 4,
 "nbformat_minor": 2
}
